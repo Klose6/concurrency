{
 "cells": [
  {
   "cell_type": "markdown",
   "metadata": {},
   "source": [
    "# Analysis of Unicode Character Names"
   ]
  },
  {
   "cell_type": "markdown",
   "metadata": {},
   "source": [
    "## Character data from Python `unicodedata` module"
   ]
  },
  {
   "cell_type": "code",
   "execution_count": 1,
   "metadata": {
    "collapsed": true
   },
   "outputs": [],
   "source": [
    "import sys\n",
    "import unicodedata"
   ]
  },
  {
   "cell_type": "code",
   "execution_count": 2,
   "metadata": {},
   "outputs": [
    {
     "data": {
      "text/plain": [
       "1114111"
      ]
     },
     "execution_count": 2,
     "metadata": {},
     "output_type": "execute_result"
    }
   ],
   "source": [
    "sys.maxunicode"
   ]
  },
  {
   "cell_type": "code",
   "execution_count": 3,
   "metadata": {},
   "outputs": [
    {
     "data": {
      "text/plain": [
       "'9.0.0'"
      ]
     },
     "execution_count": 3,
     "metadata": {},
     "output_type": "execute_result"
    }
   ],
   "source": [
    "unicodedata.unidata_version"
   ]
  },
  {
   "cell_type": "code",
   "execution_count": 4,
   "metadata": {
    "collapsed": true
   },
   "outputs": [],
   "source": [
    "def python_named_chars():\n",
    "    for code in range(sys.maxunicode):\n",
    "        char = chr(code)\n",
    "        try:\n",
    "            yield char, unicodedata.name(char)\n",
    "        except ValueError: # no such name\n",
    "            continue"
   ]
  },
  {
   "cell_type": "code",
   "execution_count": 5,
   "metadata": {
    "collapsed": true
   },
   "outputs": [],
   "source": [
    "l_py = list(python_named_chars())"
   ]
  },
  {
   "cell_type": "code",
   "execution_count": 6,
   "metadata": {},
   "outputs": [
    {
     "data": {
      "text/plain": [
       "122047"
      ]
     },
     "execution_count": 6,
     "metadata": {},
     "output_type": "execute_result"
    }
   ],
   "source": [
    "len(l_py)"
   ]
  },
  {
   "cell_type": "code",
   "execution_count": 7,
   "metadata": {},
   "outputs": [
    {
     "data": {
      "text/plain": [
       "(' ', 'SPACE')"
      ]
     },
     "execution_count": 7,
     "metadata": {},
     "output_type": "execute_result"
    }
   ],
   "source": [
    "l_py[0]"
   ]
  },
  {
   "cell_type": "code",
   "execution_count": 8,
   "metadata": {},
   "outputs": [
    {
     "data": {
      "text/plain": [
       "([(' ', 'SPACE'),\n",
       "  ('!', 'EXCLAMATION MARK'),\n",
       "  ('\"', 'QUOTATION MARK'),\n",
       "  ('#', 'NUMBER SIGN'),\n",
       "  ('$', 'DOLLAR SIGN')],\n",
       " [('󠇫', 'VARIATION SELECTOR-252'),\n",
       "  ('󠇬', 'VARIATION SELECTOR-253'),\n",
       "  ('󠇭', 'VARIATION SELECTOR-254'),\n",
       "  ('󠇮', 'VARIATION SELECTOR-255'),\n",
       "  ('󠇯', 'VARIATION SELECTOR-256')])"
      ]
     },
     "execution_count": 8,
     "metadata": {},
     "output_type": "execute_result"
    }
   ],
   "source": [
    "l_py[:5], l_py[-5:]"
   ]
  },
  {
   "cell_type": "code",
   "execution_count": 9,
   "metadata": {},
   "outputs": [],
   "source": [
    "set_py = {name for _, name in l_py}"
   ]
  },
  {
   "cell_type": "markdown",
   "metadata": {},
   "source": [
    "## Character data from `UnicodeData.txt`"
   ]
  },
  {
   "cell_type": "code",
   "execution_count": 10,
   "metadata": {},
   "outputs": [
    {
     "data": {
      "text/plain": [
       "31618"
      ]
     },
     "execution_count": 10,
     "metadata": {},
     "output_type": "execute_result"
    }
   ],
   "source": [
    "len(list(open('UnicodeData.txt')))"
   ]
  },
  {
   "cell_type": "code",
   "execution_count": 11,
   "metadata": {
    "collapsed": true
   },
   "outputs": [],
   "source": [
    "import ucd  # local module"
   ]
  },
  {
   "cell_type": "code",
   "execution_count": 12,
   "metadata": {},
   "outputs": [
    {
     "data": {
      "text/plain": [
       "31523"
      ]
     },
     "execution_count": 12,
     "metadata": {},
     "output_type": "execute_result"
    }
   ],
   "source": [
    "l_ucd = list(ucd.parser())\n",
    "len(l_ucd)"
   ]
  },
  {
   "cell_type": "code",
   "execution_count": 13,
   "metadata": {},
   "outputs": [
    {
     "data": {
      "text/plain": [
       "([NameRecord(code=32, name='SPACE', old_name='', words=['SPACE']),\n",
       "  NameRecord(code=33, name='EXCLAMATION MARK', old_name='', words=['EXCLAMATION', 'MARK']),\n",
       "  NameRecord(code=34, name='QUOTATION MARK', old_name='', words=['MARK', 'QUOTATION']),\n",
       "  NameRecord(code=35, name='NUMBER SIGN', old_name='', words=['NUMBER', 'SIGN']),\n",
       "  NameRecord(code=36, name='DOLLAR SIGN', old_name='', words=['DOLLAR', 'SIGN'])],\n",
       " [NameRecord(code=917995, name='VARIATION SELECTOR-252', old_name='', words=['252', 'SELECTOR', 'VARIATION']),\n",
       "  NameRecord(code=917996, name='VARIATION SELECTOR-253', old_name='', words=['253', 'SELECTOR', 'VARIATION']),\n",
       "  NameRecord(code=917997, name='VARIATION SELECTOR-254', old_name='', words=['254', 'SELECTOR', 'VARIATION']),\n",
       "  NameRecord(code=917998, name='VARIATION SELECTOR-255', old_name='', words=['255', 'SELECTOR', 'VARIATION']),\n",
       "  NameRecord(code=917999, name='VARIATION SELECTOR-256', old_name='', words=['256', 'SELECTOR', 'VARIATION'])])"
      ]
     },
     "execution_count": 13,
     "metadata": {},
     "output_type": "execute_result"
    }
   ],
   "source": [
    "l_ucd[:5], l_ucd[-5:]"
   ]
  },
  {
   "cell_type": "code",
   "execution_count": 14,
   "metadata": {
    "collapsed": true
   },
   "outputs": [],
   "source": [
    "set_ucd = {rec.name for rec in l_ucd}"
   ]
  },
  {
   "cell_type": "markdown",
   "metadata": {},
   "source": [
    "## Difference between names from `unicodedata` module and `UnicodeData.txt`\n",
    "\n",
    "> Note: `UnicodeData.txt` does not contain algorthmically derived names such as `'CJK UNIFIED IDEOGRAPH-20004'`"
   ]
  },
  {
   "cell_type": "code",
   "execution_count": 15,
   "metadata": {},
   "outputs": [
    {
     "data": {
      "text/plain": [
       "False"
      ]
     },
     "execution_count": 15,
     "metadata": {},
     "output_type": "execute_result"
    }
   ],
   "source": [
    "set_py > set_ucd"
   ]
  },
  {
   "cell_type": "code",
   "execution_count": 16,
   "metadata": {},
   "outputs": [
    {
     "data": {
      "text/plain": [
       "False"
      ]
     },
     "execution_count": 16,
     "metadata": {},
     "output_type": "execute_result"
    }
   ],
   "source": [
    "set_ucd > set_py"
   ]
  },
  {
   "cell_type": "code",
   "execution_count": 17,
   "metadata": {},
   "outputs": [
    {
     "data": {
      "text/plain": [
       "1024"
      ]
     },
     "execution_count": 17,
     "metadata": {},
     "output_type": "execute_result"
    }
   ],
   "source": [
    "ucd_only = sorted(set_ucd - set_py)\n",
    "len(ucd_only)"
   ]
  },
  {
   "cell_type": "code",
   "execution_count": 18,
   "metadata": {},
   "outputs": [
    {
     "data": {
      "text/plain": [
       "(['ADULT',\n",
       "  'BEARDED PERSON',\n",
       "  'BENGALI ABBREVIATION SIGN',\n",
       "  'BENGALI LETTER VEDIC ANUSVARA',\n",
       "  'BILLED CAP',\n",
       "  'BITCOIN SIGN',\n",
       "  'BOPOMOFO LETTER O WITH DOT ABOVE'],\n",
       " ['ZANABAZAR SQUARE VOWEL SIGN O',\n",
       "  'ZANABAZAR SQUARE VOWEL SIGN OE',\n",
       "  'ZANABAZAR SQUARE VOWEL SIGN REVERSED I',\n",
       "  'ZANABAZAR SQUARE VOWEL SIGN U',\n",
       "  'ZANABAZAR SQUARE VOWEL SIGN UE',\n",
       "  'ZEBRA FACE',\n",
       "  'ZOMBIE'])"
      ]
     },
     "execution_count": 18,
     "metadata": {},
     "output_type": "execute_result"
    }
   ],
   "source": [
    "ucd_only[:7], ucd_only[-7:]"
   ]
  },
  {
   "cell_type": "code",
   "execution_count": 19,
   "metadata": {},
   "outputs": [
    {
     "data": {
      "text/plain": [
       "91548"
      ]
     },
     "execution_count": 19,
     "metadata": {},
     "output_type": "execute_result"
    }
   ],
   "source": [
    "py_only = sorted(set_py - set_ucd)\n",
    "len(py_only)"
   ]
  },
  {
   "cell_type": "code",
   "execution_count": 20,
   "metadata": {},
   "outputs": [
    {
     "data": {
      "text/plain": [
       "(['CJK UNIFIED IDEOGRAPH-20000',\n",
       "  'CJK UNIFIED IDEOGRAPH-20001',\n",
       "  'CJK UNIFIED IDEOGRAPH-20002',\n",
       "  'CJK UNIFIED IDEOGRAPH-20003',\n",
       "  'CJK UNIFIED IDEOGRAPH-20004',\n",
       "  'CJK UNIFIED IDEOGRAPH-20005',\n",
       "  'CJK UNIFIED IDEOGRAPH-20006'],\n",
       " ['HANGUL SYLLABLE YUNG',\n",
       "  'HANGUL SYLLABLE YUNH',\n",
       "  'HANGUL SYLLABLE YUNJ',\n",
       "  'HANGUL SYLLABLE YUP',\n",
       "  'HANGUL SYLLABLE YUS',\n",
       "  'HANGUL SYLLABLE YUSS',\n",
       "  'HANGUL SYLLABLE YUT'])"
      ]
     },
     "execution_count": 20,
     "metadata": {},
     "output_type": "execute_result"
    }
   ],
   "source": [
    "py_only[:7], py_only[-7:]"
   ]
  },
  {
   "cell_type": "code",
   "execution_count": 21,
   "metadata": {},
   "outputs": [
    {
     "data": {
      "text/plain": [
       "11174"
      ]
     },
     "execution_count": 21,
     "metadata": {},
     "output_type": "execute_result"
    }
   ],
   "source": [
    "import collections\n",
    "\n",
    "words = collections.Counter()\n",
    "\n",
    "for name in py_only:\n",
    "    if 'CJK UNIFIED IDEOGRAPH' in name:\n",
    "        continue\n",
    "    parts = name.replace('-', ' ').split()\n",
    "    words.update(parts)\n",
    "    \n",
    "len(words)"
   ]
  },
  {
   "cell_type": "code",
   "execution_count": 22,
   "metadata": {},
   "outputs": [
    {
     "name": "stdout",
     "output_type": "stream",
     "text": [
      " 11172 HANGUL\n",
      " 11172 SYLLABLE\n",
      "     1 A\n",
      "     1 AB\n",
      "     1 ABS\n",
      "     1 AC\n",
      "     1 AD\n",
      "     1 AE\n",
      "     1 AEB\n",
      "     1 AEBS\n"
     ]
    }
   ],
   "source": [
    "for word, count in words.most_common(10):\n",
    "    print(f'{count:6d} {word}')"
   ]
  },
  {
   "cell_type": "code",
   "execution_count": 32,
   "metadata": {},
   "outputs": [
    {
     "data": {
      "text/plain": [
       "12465"
      ]
     },
     "execution_count": 32,
     "metadata": {},
     "output_type": "execute_result"
    }
   ],
   "source": [
    "words = collections.Counter()\n",
    "\n",
    "for name in sorted(set_ucd):\n",
    "    parts = name.replace('-', ' ').split()\n",
    "    words.update(parts)\n",
    "    \n",
    "len(words)"
   ]
  },
  {
   "cell_type": "code",
   "execution_count": 33,
   "metadata": {},
   "outputs": [
    {
     "name": "stdout",
     "output_type": "stream",
     "text": [
      "  9719 LETTER\n",
      "  3109 SIGN\n",
      "  2658 WITH\n",
      "  2558 SMALL\n",
      "  2221 SYLLABLE\n",
      "  1887 CAPITAL\n",
      "  1654 HIEROGLYPH\n",
      "  1492 LATIN\n",
      "  1284 ARABIC\n",
      "  1248 YI\n",
      "  1234 CUNEIFORM\n",
      "  1217 CJK\n",
      "  1205 SYMBOL\n",
      "  1157 IDEOGRAPH\n",
      "  1152 MATHEMATICAL\n",
      "  1071 EGYPTIAN\n",
      "  1014 COMPATIBILITY\n",
      "   807 FORM\n",
      "   801 A\n",
      "   795 DIGIT\n",
      "   756 TANGUT\n",
      "   755 COMPONENT\n",
      "   719 VOWEL\n",
      "   710 CANADIAN\n",
      "   710 SYLLABICS\n",
      "   672 SIGNWRITING\n",
      "   664 TIMES\n",
      "   657 BAMUM\n",
      "   584 BOLD\n",
      "   583 ANATOLIAN\n",
      "   580 AND\n",
      "   576 ARROW\n",
      "   569 PHASE\n",
      "   563 HANGUL\n",
      "   552 LINEAR\n",
      "   530 GREEK\n",
      "   516 LIGATURE\n",
      "   516 MUSICAL\n",
      "   495 ETHIOPIC\n",
      "   491 CHARACTER\n",
      "   464 E\n",
      "   455 FOR\n",
      "   445 COMBINING\n",
      "   444 CYRILLIC\n",
      "   443 DOUBLE\n",
      "   439 ABOVE\n",
      "   429 ITALIC\n",
      "   422 OLD\n",
      "   418 SQUARE\n",
      "   404 LEFT\n",
      "   403 NUMBER\n",
      "   401 RIGHT\n",
      "   397 NUSHU\n",
      "   393 U\n",
      "   387 SERIF\n",
      "   385 RADICAL\n",
      "   385 SANS\n",
      "   378 CIRCLED\n",
      "   371 DOTS\n",
      "   351 MARK\n",
      "   349 FINAL\n",
      "   344 O\n",
      "   344 B\n",
      "   344 TAI\n",
      "   310 I\n",
      "   300 VAI\n",
      "   299 TWO\n",
      "   294 HAND\n",
      "   292 BLACK\n",
      "   286 ONE\n",
      "   285 HENTAIGANA\n",
      "   280 BELOW\n",
      "   279 DOT\n",
      "   260 SELECTOR\n",
      "   260 VARIATION\n",
      "   257 PATTERN\n",
      "   256 BRAILLE\n",
      "   255 THREE\n",
      "   253 WHITE\n",
      "   249 MODIFIER\n",
      "   246 BYZANTINE\n",
      "   243 VERTICAL\n",
      "   236 ISOLATED\n",
      "   226 STROKE\n",
      "   226 KATAKANA\n",
      "   223 MYANMAR\n",
      "   222 HEAVY\n",
      "   217 OF\n",
      "   214 KANGXI\n",
      "   213 D\n",
      "   213 MENDE\n",
      "   213 KIKAKUI\n",
      "   207 INITIAL\n",
      "   207 TIBETAN\n",
      "   206 TO\n",
      "   204 FOUR\n",
      "   202 MEEM\n",
      "   202 C\n",
      "   195 KA\n",
      "   195 UP\n"
     ]
    }
   ],
   "source": [
    "for word, count in words.most_common(100):\n",
    "    print(f'{count:6d} {word}')"
   ]
  },
  {
   "cell_type": "code",
   "execution_count": 25,
   "metadata": {},
   "outputs": [
    {
     "data": {
      "text/plain": [
       "'SYLLABLE'"
      ]
     },
     "execution_count": 25,
     "metadata": {},
     "output_type": "execute_result"
    }
   ],
   "source": [
    "max(words, key=len)"
   ]
  },
  {
   "cell_type": "code",
   "execution_count": 26,
   "metadata": {
    "collapsed": true
   },
   "outputs": [],
   "source": [
    "singles = sorted((count, word) for word, count in words.items() if len(word)==1)"
   ]
  },
  {
   "cell_type": "code",
   "execution_count": 27,
   "metadata": {},
   "outputs": [
    {
     "data": {
      "text/plain": [
       "0"
      ]
     },
     "execution_count": 27,
     "metadata": {},
     "output_type": "execute_result"
    }
   ],
   "source": [
    "len(singles)"
   ]
  },
  {
   "cell_type": "code",
   "execution_count": 28,
   "metadata": {},
   "outputs": [],
   "source": [
    "for count, word in reversed(singles):\n",
    "    print(f'{count:6d} {word}')    "
   ]
  },
  {
   "cell_type": "code",
   "execution_count": 29,
   "metadata": {
    "collapsed": true
   },
   "outputs": [],
   "source": [
    "unique = sorted(word for word, count in words.items() if count==1)"
   ]
  },
  {
   "cell_type": "code",
   "execution_count": 30,
   "metadata": {},
   "outputs": [
    {
     "data": {
      "text/plain": [
       "0"
      ]
     },
     "execution_count": 30,
     "metadata": {},
     "output_type": "execute_result"
    }
   ],
   "source": [
    "len(unique)"
   ]
  },
  {
   "cell_type": "code",
   "execution_count": 31,
   "metadata": {},
   "outputs": [
    {
     "data": {
      "text/plain": [
       "([], [])"
      ]
     },
     "execution_count": 31,
     "metadata": {},
     "output_type": "execute_result"
    }
   ],
   "source": [
    "unique[:50], unique[-50:]"
   ]
  }
 ],
 "metadata": {
  "kernelspec": {
   "display_name": "Python 3",
   "language": "python",
   "name": "python3"
  },
  "language_info": {
   "codemirror_mode": {
    "name": "ipython",
    "version": 3
   },
   "file_extension": ".py",
   "mimetype": "text/x-python",
   "name": "python",
   "nbconvert_exporter": "python",
   "pygments_lexer": "ipython3",
   "version": "3.6.1"
  }
 },
 "nbformat": 4,
 "nbformat_minor": 2
}
