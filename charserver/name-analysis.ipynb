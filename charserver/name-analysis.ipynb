{
 "cells": [
  {
   "cell_type": "markdown",
   "metadata": {},
   "source": [
    "# Analysis of Unicode Character Names"
   ]
  },
  {
   "cell_type": "code",
   "execution_count": 1,
   "metadata": {
    "collapsed": true
   },
   "outputs": [],
   "source": [
    "import sys\n",
    "import unicodedata\n",
    "import collections\n",
    "\n",
    "words = collections.Counter()\n",
    "\n",
    "def named_chars():\n",
    "    for code in range(sys.maxunicode):\n",
    "        char = chr(code)\n",
    "        try:\n",
    "            yield char, unicodedata.name(char)\n",
    "        except ValueError: # no such name\n",
    "            continue"
   ]
  },
  {
   "cell_type": "code",
   "execution_count": 2,
   "metadata": {},
   "outputs": [
    {
     "data": {
      "text/plain": [
       "1114111"
      ]
     },
     "execution_count": 2,
     "metadata": {},
     "output_type": "execute_result"
    }
   ],
   "source": [
    "sys.maxunicode"
   ]
  },
  {
   "cell_type": "code",
   "execution_count": 3,
   "metadata": {},
   "outputs": [],
   "source": [
    "l = list(named_chars())"
   ]
  },
  {
   "cell_type": "code",
   "execution_count": 4,
   "metadata": {},
   "outputs": [
    {
     "data": {
      "text/plain": [
       "122047"
      ]
     },
     "execution_count": 4,
     "metadata": {},
     "output_type": "execute_result"
    }
   ],
   "source": [
    "len(l)"
   ]
  },
  {
   "cell_type": "code",
   "execution_count": 5,
   "metadata": {},
   "outputs": [
    {
     "data": {
      "text/plain": [
       "([(' ', 'SPACE'),\n",
       "  ('!', 'EXCLAMATION MARK'),\n",
       "  ('\"', 'QUOTATION MARK'),\n",
       "  ('#', 'NUMBER SIGN'),\n",
       "  ('$', 'DOLLAR SIGN'),\n",
       "  ('%', 'PERCENT SIGN'),\n",
       "  ('&', 'AMPERSAND'),\n",
       "  (\"'\", 'APOSTROPHE'),\n",
       "  ('(', 'LEFT PARENTHESIS'),\n",
       "  (')', 'RIGHT PARENTHESIS')],\n",
       " [('󠇦', 'VARIATION SELECTOR-247'),\n",
       "  ('󠇧', 'VARIATION SELECTOR-248'),\n",
       "  ('󠇨', 'VARIATION SELECTOR-249'),\n",
       "  ('󠇩', 'VARIATION SELECTOR-250'),\n",
       "  ('󠇪', 'VARIATION SELECTOR-251'),\n",
       "  ('󠇫', 'VARIATION SELECTOR-252'),\n",
       "  ('󠇬', 'VARIATION SELECTOR-253'),\n",
       "  ('󠇭', 'VARIATION SELECTOR-254'),\n",
       "  ('󠇮', 'VARIATION SELECTOR-255'),\n",
       "  ('󠇯', 'VARIATION SELECTOR-256')])"
      ]
     },
     "execution_count": 5,
     "metadata": {},
     "output_type": "execute_result"
    }
   ],
   "source": [
    "l[:10], l[-10:]"
   ]
  },
  {
   "cell_type": "code",
   "execution_count": 6,
   "metadata": {},
   "outputs": [
    {
     "data": {
      "text/plain": [
       "102743"
      ]
     },
     "execution_count": 6,
     "metadata": {},
     "output_type": "execute_result"
    }
   ],
   "source": [
    "for char, name in named_chars():\n",
    "    parts = name.replace('-', ' ').split()\n",
    "    words.update(parts)\n",
    "    \n",
    "len(words)"
   ]
  },
  {
   "cell_type": "code",
   "execution_count": 7,
   "metadata": {},
   "outputs": [
    {
     "name": "stdout",
     "output_type": "stream",
     "text": [
      " 81593 CJK\n",
      " 81533 IDEOGRAPH\n",
      " 80428 UNIFIED\n",
      " 13393 SYLLABLE\n",
      " 11735 HANGUL\n",
      "  9280 LETTER\n",
      "  3042 SIGN\n",
      "  2630 WITH\n",
      "  2557 SMALL\n",
      "  1887 CAPITAL\n",
      "  1654 HIEROGLYPH\n",
      "  1492 LATIN\n",
      "  1284 ARABIC\n",
      "  1249 YI\n",
      "  1234 CUNEIFORM\n",
      "  1198 SYMBOL\n",
      "  1152 MATHEMATICAL\n",
      "  1071 EGYPTIAN\n",
      "  1014 COMPATIBILITY\n",
      "   807 FORM\n",
      "   792 A\n",
      "   785 DIGIT\n",
      "   756 TANGUT\n",
      "   755 COMPONENT\n",
      "   710 CANADIAN\n",
      "   710 SYLLABICS\n",
      "   688 VOWEL\n",
      "   672 SIGNWRITING\n",
      "   664 TIMES\n",
      "   657 BAMUM\n",
      "   584 BOLD\n",
      "   583 ANATOLIAN\n",
      "   576 ARROW\n",
      "   573 AND\n",
      "   569 PHASE\n",
      "   552 LINEAR\n",
      "   530 GREEK\n",
      "   516 LIGATURE\n",
      "   516 MUSICAL\n",
      "   495 ETHIOPIC\n",
      "   456 E\n",
      "   449 FOR\n",
      "   444 CYRILLIC\n",
      "   440 COMBINING\n",
      "   438 DOUBLE\n",
      "   430 ABOVE\n",
      "   426 ITALIC\n",
      "   419 OLD\n",
      "   403 NUMBER\n",
      "   400 RIGHT\n",
      "   397 LEFT\n",
      "   387 SERIF\n",
      "   385 U\n",
      "   385 SANS\n",
      "   385 RADICAL\n",
      "   375 CIRCLED\n",
      "   366 DOTS\n",
      "   346 SQUARE\n",
      "   344 TAI\n",
      "   343 B\n",
      "   337 O\n",
      "   332 FINAL\n",
      "   329 MARK\n",
      "   301 I\n",
      "   300 VAI\n",
      "   295 TWO\n",
      "   292 HAND\n",
      "   292 BLACK\n",
      "   282 ONE\n",
      "   279 BELOW\n",
      "   273 DOT\n",
      "   260 VARIATION\n",
      "   260 SELECTOR\n",
      "   257 PATTERN\n",
      "   256 BRAILLE\n",
      "   253 WHITE\n",
      "   252 THREE\n",
      "   249 MODIFIER\n",
      "   246 BYZANTINE\n",
      "   242 VERTICAL\n",
      "   236 ISOLATED\n",
      "   226 STROKE\n",
      "   226 KATAKANA\n",
      "   223 MYANMAR\n",
      "   222 HEAVY\n",
      "   216 OF\n",
      "   214 KANGXI\n",
      "   213 MENDE\n",
      "   213 KIKAKUI\n",
      "   212 D\n",
      "   207 TIBETAN\n",
      "   202 C\n",
      "   202 MEEM\n",
      "   201 FOUR\n",
      "   200 INITIAL\n",
      "   199 TO\n",
      "   195 UP\n",
      "   192 MOVEMENT\n",
      "   189 RIGHTWARDS\n",
      "   188 TRIANGLE\n"
     ]
    }
   ],
   "source": [
    "for word, count in words.most_common(100):\n",
    "    print(f'{count:6d} {word}')"
   ]
  },
  {
   "cell_type": "code",
   "execution_count": 8,
   "metadata": {},
   "outputs": [
    {
     "data": {
      "text/plain": [
       "'CEONGCHIEUMSSANGCIEUC'"
      ]
     },
     "execution_count": 8,
     "metadata": {},
     "output_type": "execute_result"
    }
   ],
   "source": [
    "max(words, key=len)"
   ]
  },
  {
   "cell_type": "code",
   "execution_count": 9,
   "metadata": {
    "collapsed": true
   },
   "outputs": [],
   "source": [
    "singles = sorted((count, word) for word, count in words.items() if len(word)==1)"
   ]
  },
  {
   "cell_type": "code",
   "execution_count": 10,
   "metadata": {},
   "outputs": [
    {
     "data": {
      "text/plain": [
       "35"
      ]
     },
     "execution_count": 10,
     "metadata": {},
     "output_type": "execute_result"
    }
   ],
   "source": [
    "len(singles)"
   ]
  },
  {
   "cell_type": "code",
   "execution_count": 11,
   "metadata": {},
   "outputs": [
    {
     "name": "stdout",
     "output_type": "stream",
     "text": [
      "   792 A\n",
      "   456 E\n",
      "   385 U\n",
      "   343 B\n",
      "   337 O\n",
      "   301 I\n",
      "   212 D\n",
      "   202 C\n",
      "   160 R\n",
      "   151 L\n",
      "   142 S\n",
      "   140 N\n",
      "   123 F\n",
      "   108 M\n",
      "    96 Y\n",
      "    96 T\n",
      "    95 K\n",
      "    94 H\n",
      "    93 P\n",
      "    92 Z\n",
      "    90 G\n",
      "    88 V\n",
      "    85 X\n",
      "    80 J\n",
      "    74 W\n",
      "    61 2\n",
      "    55 Q\n",
      "    33 3\n",
      "    29 1\n",
      "    22 5\n",
      "    22 4\n",
      "    16 6\n",
      "    11 9\n",
      "    11 7\n",
      "     9 8\n"
     ]
    }
   ],
   "source": [
    "for count, word in reversed(singles):\n",
    "    print(f'{count:6d} {word}')    "
   ]
  },
  {
   "cell_type": "code",
   "execution_count": 12,
   "metadata": {},
   "outputs": [],
   "source": [
    "unique = sorted(word for word, count in words.items() if count==1)"
   ]
  },
  {
   "cell_type": "code",
   "execution_count": 13,
   "metadata": {},
   "outputs": [
    {
     "data": {
      "text/plain": [
       "98448"
      ]
     },
     "execution_count": 13,
     "metadata": {},
     "output_type": "execute_result"
    }
   ],
   "source": [
    "len(unique)"
   ]
  },
  {
   "cell_type": "code",
   "execution_count": 14,
   "metadata": {},
   "outputs": [
    {
     "data": {
      "text/plain": [
       "(['001',\n",
       "  '002',\n",
       "  '004',\n",
       "  '005',\n",
       "  '006',\n",
       "  '007',\n",
       "  '008',\n",
       "  '009',\n",
       "  '010',\n",
       "  '011',\n",
       "  '012',\n",
       "  '013',\n",
       "  '014',\n",
       "  '015',\n",
       "  '016',\n",
       "  '017',\n",
       "  '018',\n",
       "  '019',\n",
       "  '022',\n",
       "  '023',\n",
       "  '024',\n",
       "  '026',\n",
       "  '027',\n",
       "  '028',\n",
       "  '029',\n",
       "  '031',\n",
       "  '032',\n",
       "  '033',\n",
       "  '034',\n",
       "  '035',\n",
       "  '036',\n",
       "  '037',\n",
       "  '038',\n",
       "  '039',\n",
       "  '040',\n",
       "  '041',\n",
       "  '042',\n",
       "  '043',\n",
       "  '044',\n",
       "  '045',\n",
       "  '046',\n",
       "  '047',\n",
       "  '048',\n",
       "  '049',\n",
       "  '052',\n",
       "  '053',\n",
       "  '054',\n",
       "  '055',\n",
       "  '056',\n",
       "  '057'],\n",
       " ['ZOP',\n",
       "  'ZOX',\n",
       "  'ZRA',\n",
       "  'ZSA',\n",
       "  'ZSHA',\n",
       "  'ZUBUR',\n",
       "  'ZUM',\n",
       "  'ZUO',\n",
       "  'ZUOP',\n",
       "  'ZUOX',\n",
       "  'ZURX',\n",
       "  'ZUT',\n",
       "  'ZUX',\n",
       "  'ZWA',\n",
       "  'ZWARAKAY',\n",
       "  'ZWJ',\n",
       "  'ZYGOS',\n",
       "  'ZYP',\n",
       "  'ZYR',\n",
       "  'ZYRX',\n",
       "  'ZYT',\n",
       "  'ZYX',\n",
       "  'ZZAA',\n",
       "  'ZZAP',\n",
       "  'ZZAT',\n",
       "  'ZZAX',\n",
       "  'ZZEE',\n",
       "  'ZZEP',\n",
       "  'ZZEX',\n",
       "  'ZZIE',\n",
       "  'ZZIEP',\n",
       "  'ZZIEX',\n",
       "  'ZZIP',\n",
       "  'ZZIT',\n",
       "  'ZZIX',\n",
       "  'ZZOP',\n",
       "  'ZZOX',\n",
       "  'ZZSA',\n",
       "  'ZZSYA',\n",
       "  'ZZUP',\n",
       "  'ZZUR',\n",
       "  'ZZURX',\n",
       "  'ZZUX',\n",
       "  'ZZY',\n",
       "  'ZZYA',\n",
       "  'ZZYP',\n",
       "  'ZZYR',\n",
       "  'ZZYRX',\n",
       "  'ZZYT',\n",
       "  'ZZYX'])"
      ]
     },
     "execution_count": 14,
     "metadata": {},
     "output_type": "execute_result"
    }
   ],
   "source": [
    "unique[:50], unique[-50:]"
   ]
  },
  {
   "cell_type": "code",
   "execution_count": 19,
   "metadata": {},
   "outputs": [
    {
     "data": {
      "text/plain": [
       "'122047'"
      ]
     },
     "execution_count": 19,
     "metadata": {},
     "output_type": "execute_result"
    }
   ],
   "source": [
    "f'{len(l)}'"
   ]
  },
  {
   "cell_type": "code",
   "execution_count": null,
   "metadata": {
    "collapsed": true
   },
   "outputs": [],
   "source": []
  }
 ],
 "metadata": {
  "kernelspec": {
   "display_name": "Python 3",
   "language": "python",
   "name": "python3"
  },
  "language_info": {
   "codemirror_mode": {
    "name": "ipython",
    "version": 3
   },
   "file_extension": ".py",
   "mimetype": "text/x-python",
   "name": "python",
   "nbconvert_exporter": "python",
   "pygments_lexer": "ipython3",
   "version": "3.6.1"
  }
 },
 "nbformat": 4,
 "nbformat_minor": 2
}
